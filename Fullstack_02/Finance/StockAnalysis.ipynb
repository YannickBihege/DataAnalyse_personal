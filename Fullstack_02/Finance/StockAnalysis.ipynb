{
 "cells": [
  {
   "cell_type": "code",
   "execution_count": 1,
   "metadata": {},
   "outputs": [],
   "source": [
    "import pandas as pd\n",
    "import numpy as np\n",
    "import datetime\n",
    "import warnings\n",
    "\n",
    "from pandas_datareader import data\n",
    "from bokeh.models.annotations import Title\n",
    "from bokeh.plotting import figure, show ,output_file"
   ]
  },
  {
   "cell_type": "code",
   "execution_count": 3,
   "metadata": {},
   "outputs": [
    {
     "data": {
      "text/html": [
       "<div>\n",
       "<style scoped>\n",
       "    .dataframe tbody tr th:only-of-type {\n",
       "        vertical-align: middle;\n",
       "    }\n",
       "\n",
       "    .dataframe tbody tr th {\n",
       "        vertical-align: top;\n",
       "    }\n",
       "\n",
       "    .dataframe thead th {\n",
       "        text-align: right;\n",
       "    }\n",
       "</style>\n",
       "<table border=\"1\" class=\"dataframe\">\n",
       "  <thead>\n",
       "    <tr style=\"text-align: right;\">\n",
       "      <th></th>\n",
       "      <th>High</th>\n",
       "      <th>Low</th>\n",
       "      <th>Open</th>\n",
       "      <th>Close</th>\n",
       "      <th>Volume</th>\n",
       "      <th>Adj Close</th>\n",
       "    </tr>\n",
       "    <tr>\n",
       "      <th>Date</th>\n",
       "      <th></th>\n",
       "      <th></th>\n",
       "      <th></th>\n",
       "      <th></th>\n",
       "      <th></th>\n",
       "      <th></th>\n",
       "    </tr>\n",
       "  </thead>\n",
       "  <tbody>\n",
       "    <tr>\n",
       "      <td>2020-04-01</td>\n",
       "      <td>248.720001</td>\n",
       "      <td>239.130005</td>\n",
       "      <td>246.500000</td>\n",
       "      <td>240.910004</td>\n",
       "      <td>44054600</td>\n",
       "      <td>240.910004</td>\n",
       "    </tr>\n",
       "    <tr>\n",
       "      <td>2020-04-02</td>\n",
       "      <td>245.149994</td>\n",
       "      <td>236.899994</td>\n",
       "      <td>240.339996</td>\n",
       "      <td>244.929993</td>\n",
       "      <td>41483500</td>\n",
       "      <td>244.929993</td>\n",
       "    </tr>\n",
       "  </tbody>\n",
       "</table>\n",
       "</div>"
      ],
      "text/plain": [
       "                  High         Low        Open       Close    Volume  \\\n",
       "Date                                                                   \n",
       "2020-04-01  248.720001  239.130005  246.500000  240.910004  44054600   \n",
       "2020-04-02  245.149994  236.899994  240.339996  244.929993  41483500   \n",
       "\n",
       "             Adj Close  \n",
       "Date                    \n",
       "2020-04-01  240.910004  \n",
       "2020-04-02  244.929993  "
      ]
     },
     "execution_count": 3,
     "metadata": {},
     "output_type": "execute_result"
    }
   ],
   "source": [
    "start = datetime.datetime(2020,4,1)\n",
    "end= datetime.datetime(2020,4,12)\n",
    "df = data.DataReader(name=\"AAPL\" ,data_source =\"yahoo\" ,start= start,end= end)\n",
    "df.head(2)"
   ]
  },
  {
   "cell_type": "code",
   "execution_count": 4,
   "metadata": {},
   "outputs": [],
   "source": [
    "df2 = data.DataReader(name=\"GOOG\" ,data_source =\"yahoo\" ,start= start,end= end)"
   ]
  },
  {
   "cell_type": "code",
   "execution_count": 5,
   "metadata": {},
   "outputs": [],
   "source": [
    "def increase_decrease(c, o):\n",
    "    if c > o:\n",
    "        value =\"Increase\"\n",
    "    elif c< o:\n",
    "        value=\"Decrease\"\n",
    "    else:\n",
    "        value=\"Equal\"\n",
    "    return value"
   ]
  },
  {
   "cell_type": "code",
   "execution_count": 6,
   "metadata": {},
   "outputs": [],
   "source": [
    "df['Status'] = [increase_decrease(c,o) for c, o in zip(df.Close,df.Open)]\n",
    "df[\"Middle\"] =(df.Open + df.Close)/2\n",
    "df['Height'] = abs(df.Close -df.Open)"
   ]
  },
  {
   "cell_type": "code",
   "execution_count": 9,
   "metadata": {},
   "outputs": [
    {
     "name": "stderr",
     "output_type": "stream",
     "text": [
      "BokehUserWarning: ColumnDataSource's columns must be of the same length. Current lengths: ('height', 7), ('x', 3), ('y', 3)\n",
      "BokehUserWarning: ColumnDataSource's columns must be of the same length. Current lengths: ('height', 7), ('x', 4), ('y', 4)\n"
     ]
    }
   ],
   "source": [
    "p = figure(x_axis_type = 'datetime', width= 500, height = 500 )\n",
    "\n",
    "#grid transparency\n",
    "p.grid.grid_line_alpha = 0.3\n",
    "\n",
    "t = Title()\n",
    "t.text = 'Candle charts'\n",
    "\n",
    "hours= 12 *60*60*1000\n",
    "\n",
    "p.rect(df.index[df.Status=='Increase'] ,df['Middle'][df.Status =='Increase'] , hours , abs(df.Open-df.Close) ,color ='red' ,line_color='black')\n",
    "p.rect(df.index[df.Status=='Decrease'] ,df['Middle'][df.Status =='Decrease'] , hours , abs(df.Open-df.Close) ,color ='green',line_color='black')\n",
    "p.segment(df.index, df.High, df.index, df.Low ,color =\"Black\")\n",
    "\n",
    "output_file(\"chart_candle.html\")\n",
    "show(p)"
   ]
  },
  {
   "cell_type": "markdown",
   "metadata": {},
   "source": [
    "<h2> Style  </h2>"
   ]
  },
  {
   "cell_type": "code",
   "execution_count": 10,
   "metadata": {},
   "outputs": [
    {
     "name": "stderr",
     "output_type": "stream",
     "text": [
      "BokehUserWarning: ColumnDataSource's columns must be of the same length. Current lengths: ('height', 7), ('x', 3), ('y', 3)\n",
      "BokehUserWarning: ColumnDataSource's columns must be of the same length. Current lengths: ('height', 7), ('x', 4), ('y', 4)\n"
     ]
    }
   ],
   "source": [
    "p = figure(x_axis_type = 'datetime', width= 1000, height = 300 ,sizing_mode = 'scale_width')\n",
    "\n",
    "#grid transparency\n",
    "p.grid.grid_line_alpha = 0.3\n",
    "\n",
    "t = Title()\n",
    "t.text = 'Candle charts'\n",
    "\n",
    "hours= 12 *60*60*1000\n",
    "\n",
    "p.rect(df.index[df.Status=='Increase'] ,df['Middle'][df.Status =='Increase'] , hours , abs(df.Open-df.Close) ,color ='red' ,line_color='black')\n",
    "p.rect(df.index[df.Status=='Decrease'] ,df['Middle'][df.Status =='Decrease'] , hours , abs(df.Open-df.Close) ,color ='green',line_color='black')\n",
    "p.segment(df.index, df.High, df.index, df.Low ,color =\"Black\")\n",
    "\n",
    "output_file(\"chart_candle_responsive.html\")\n",
    "show(p)"
   ]
  },
  {
   "cell_type": "markdown",
   "metadata": {},
   "source": [
    "<h2> Web </h2>"
   ]
  },
  {
   "cell_type": "code",
   "execution_count": 16,
   "metadata": {},
   "outputs": [
    {
     "name": "stderr",
     "output_type": "stream",
     "text": [
      "BokehUserWarning: ColumnDataSource's columns must be of the same length. Current lengths: ('height', 7), ('x', 3), ('y', 3)\n",
      "BokehUserWarning: ColumnDataSource's columns must be of the same length. Current lengths: ('height', 7), ('x', 4), ('y', 4)\n"
     ]
    }
   ],
   "source": [
    "from bokeh.embed import components\n",
    "from bokeh.resources import CDN\n",
    "p = figure(x_axis_type = 'datetime', width= 1000, height = 300 ,sizing_mode = 'scale_width')\n",
    "\n",
    "#grid transparency\n",
    "p.grid.grid_line_alpha = 0.3\n",
    "\n",
    "t = Title()\n",
    "t.text = 'Candle charts'\n",
    "\n",
    "hours= 12 *60*60*1000\n",
    "\n",
    "p.rect(df.index[df.Status=='Increase'] ,df['Middle'][df.Status =='Increase'] , hours , abs(df.Open-df.Close) ,color ='red' ,line_color='black')\n",
    "p.rect(df.index[df.Status=='Decrease'] ,df['Middle'][df.Status =='Decrease'] , hours , abs(df.Open-df.Close) ,color ='green',line_color='black')\n",
    "p.segment(df.index, df.High, df.index, df.Low ,color =\"Black\")\n",
    "\n",
    "script1, div1 = components(p)\n",
    "type(div1)\n",
    "\n",
    "cdn_js =CDN.js_files\n",
    "cdn_css= CDN.css_files"
   ]
  },
  {
   "cell_type": "code",
   "execution_count": 17,
   "metadata": {},
   "outputs": [
    {
     "data": {
      "text/plain": [
       "['https://cdn.pydata.org/bokeh/release/bokeh-1.3.4.min.js',\n",
       " 'https://cdn.pydata.org/bokeh/release/bokeh-widgets-1.3.4.min.js',\n",
       " 'https://cdn.pydata.org/bokeh/release/bokeh-tables-1.3.4.min.js',\n",
       " 'https://cdn.pydata.org/bokeh/release/bokeh-gl-1.3.4.min.js']"
      ]
     },
     "execution_count": 17,
     "metadata": {},
     "output_type": "execute_result"
    }
   ],
   "source": [
    "cdn_js"
   ]
  },
  {
   "cell_type": "code",
   "execution_count": null,
   "metadata": {},
   "outputs": [],
   "source": []
  }
 ],
 "metadata": {
  "kernelspec": {
   "display_name": "Python 3",
   "language": "python",
   "name": "python3"
  },
  "language_info": {
   "codemirror_mode": {
    "name": "ipython",
    "version": 3
   },
   "file_extension": ".py",
   "mimetype": "text/x-python",
   "name": "python",
   "nbconvert_exporter": "python",
   "pygments_lexer": "ipython3",
   "version": "3.7.4"
  }
 },
 "nbformat": 4,
 "nbformat_minor": 2
}
