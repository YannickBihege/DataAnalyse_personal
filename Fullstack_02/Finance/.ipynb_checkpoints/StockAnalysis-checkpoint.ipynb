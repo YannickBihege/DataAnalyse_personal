{
 "cells": [
  {
   "cell_type": "code",
   "execution_count": 30,
   "metadata": {},
   "outputs": [],
   "source": [
    "import pandas as pd\n",
    "import numpy as np\n",
    "import datetime\n",
    "import warnings\n",
    "\n",
    "from pandas_datareader import data\n",
    "from bokeh.models.annotations import Title\n",
    "from bokeh.plotting import figure, show ,output_file"
   ]
  },
  {
   "cell_type": "code",
   "execution_count": 14,
   "metadata": {},
   "outputs": [
    {
     "data": {
      "text/html": [
       "<div>\n",
       "<style scoped>\n",
       "    .dataframe tbody tr th:only-of-type {\n",
       "        vertical-align: middle;\n",
       "    }\n",
       "\n",
       "    .dataframe tbody tr th {\n",
       "        vertical-align: top;\n",
       "    }\n",
       "\n",
       "    .dataframe thead th {\n",
       "        text-align: right;\n",
       "    }\n",
       "</style>\n",
       "<table border=\"1\" class=\"dataframe\">\n",
       "  <thead>\n",
       "    <tr style=\"text-align: right;\">\n",
       "      <th></th>\n",
       "      <th>High</th>\n",
       "      <th>Low</th>\n",
       "      <th>Open</th>\n",
       "      <th>Close</th>\n",
       "      <th>Volume</th>\n",
       "      <th>Adj Close</th>\n",
       "    </tr>\n",
       "    <tr>\n",
       "      <th>Date</th>\n",
       "      <th></th>\n",
       "      <th></th>\n",
       "      <th></th>\n",
       "      <th></th>\n",
       "      <th></th>\n",
       "      <th></th>\n",
       "    </tr>\n",
       "  </thead>\n",
       "  <tbody>\n",
       "    <tr>\n",
       "      <td>2020-04-01</td>\n",
       "      <td>248.720001</td>\n",
       "      <td>239.130005</td>\n",
       "      <td>246.500000</td>\n",
       "      <td>240.910004</td>\n",
       "      <td>44054600</td>\n",
       "      <td>240.910004</td>\n",
       "    </tr>\n",
       "    <tr>\n",
       "      <td>2020-04-02</td>\n",
       "      <td>245.149994</td>\n",
       "      <td>236.899994</td>\n",
       "      <td>240.339996</td>\n",
       "      <td>244.929993</td>\n",
       "      <td>41483500</td>\n",
       "      <td>244.929993</td>\n",
       "    </tr>\n",
       "  </tbody>\n",
       "</table>\n",
       "</div>"
      ],
      "text/plain": [
       "                  High         Low        Open       Close    Volume  \\\n",
       "Date                                                                   \n",
       "2020-04-01  248.720001  239.130005  246.500000  240.910004  44054600   \n",
       "2020-04-02  245.149994  236.899994  240.339996  244.929993  41483500   \n",
       "\n",
       "             Adj Close  \n",
       "Date                    \n",
       "2020-04-01  240.910004  \n",
       "2020-04-02  244.929993  "
      ]
     },
     "execution_count": 14,
     "metadata": {},
     "output_type": "execute_result"
    }
   ],
   "source": [
    "start = datetime.datetime(2020,4,1)\n",
    "end= datetime.datetime(2020,4,30)\n",
    "df = data.DataReader(name=\"AAPL\" ,data_source =\"yahoo\" ,start= start,end= end)\n",
    "df.head(2)"
   ]
  },
  {
   "cell_type": "code",
   "execution_count": 34,
   "metadata": {},
   "outputs": [],
   "source": [
    "df2 = data.DataReader(name=\"GOOG\" ,data_source =\"yahoo\" ,start= start,end= end)"
   ]
  },
  {
   "cell_type": "code",
   "execution_count": 39,
   "metadata": {},
   "outputs": [],
   "source": [
    "def increase_decrease(c, o):\n",
    "    if c > 0:\n",
    "        value =\"Increase\"\n",
    "    elif c< 0:\n",
    "        value=\"Decrease\"\n",
    "    else:\n",
    "        value=\"Equal\"\n",
    "    return value"
   ]
  },
  {
   "cell_type": "code",
   "execution_count": 51,
   "metadata": {},
   "outputs": [],
   "source": [
    "df['Status'] = [increase_decrease(c,o) for c, o in zip(df.Close,df.Open)]\n",
    "df[\"Middle\"] =(df.Open + df.Close)/2\n",
    "df['Height'] = abs(df.Close -df.Open)"
   ]
  },
  {
   "cell_type": "code",
   "execution_count": 50,
   "metadata": {},
   "outputs": [
    {
     "ename": "SyntaxError",
     "evalue": "invalid syntax (<ipython-input-50-9e106b1b20bc>, line 8)",
     "output_type": "error",
     "traceback": [
      "\u001b[0;36m  File \u001b[0;32m\"<ipython-input-50-9e106b1b20bc>\"\u001b[0;36m, line \u001b[0;32m8\u001b[0m\n\u001b[0;31m    p.rect(df.index[df.Status='Increase'] ,(df.Open+df.Close)/2 , hours , abs(df.Open-df.Close) ,color ='red' ,line_color='black')\u001b[0m\n\u001b[0m                             ^\u001b[0m\n\u001b[0;31mSyntaxError\u001b[0m\u001b[0;31m:\u001b[0m invalid syntax\n"
     ]
    }
   ],
   "source": [
    "p = figure(x_axis_type = 'datetime', width= 500, height = 500)\n",
    "\n",
    "t = Title()\n",
    "t.text = 'Candle charts'\n",
    "\n",
    "hours= 12 *60*60*1000\n",
    "\n",
    "p.rect(df.index[df.Status='Increase'] ,(df.Open+df.Close)/2 , hours , abs(df.Open-df.Close) ,color ='red' ,line_color='black')\n",
    "\n",
    "\n",
    "p.rect(df.index[df.Status='Decrease'] ,(df.Open+df.Close)/2 , hours , abs(df.Open-df.Close) ,color ='green',line_color='black')\n",
    "output_file(\"chart_candle.html\")\n",
    "show(p)"
   ]
  },
  {
   "cell_type": "code",
   "execution_count": 49,
   "metadata": {},
   "outputs": [
    {
     "data": {
      "text/plain": [
       "DatetimeIndex(['2020-04-02', '2020-04-06', '2020-04-08', '2020-04-13',\n",
       "               '2020-04-14', '2020-04-15', '2020-04-22', '2020-04-24',\n",
       "               '2020-04-27', '2020-04-29'],\n",
       "              dtype='datetime64[ns]', name='Date', freq=None)"
      ]
     },
     "execution_count": 49,
     "metadata": {},
     "output_type": "execute_result"
    }
   ],
   "source": [
    "df.index[df.Close > df.Open]"
   ]
  },
  {
   "cell_type": "code",
   "execution_count": null,
   "metadata": {},
   "outputs": [],
   "source": []
  }
 ],
 "metadata": {
  "kernelspec": {
   "display_name": "Python 3",
   "language": "python",
   "name": "python3"
  },
  "language_info": {
   "codemirror_mode": {
    "name": "ipython",
    "version": 3
   },
   "file_extension": ".py",
   "mimetype": "text/x-python",
   "name": "python",
   "nbconvert_exporter": "python",
   "pygments_lexer": "ipython3",
   "version": "3.7.4"
  }
 },
 "nbformat": 4,
 "nbformat_minor": 2
}
