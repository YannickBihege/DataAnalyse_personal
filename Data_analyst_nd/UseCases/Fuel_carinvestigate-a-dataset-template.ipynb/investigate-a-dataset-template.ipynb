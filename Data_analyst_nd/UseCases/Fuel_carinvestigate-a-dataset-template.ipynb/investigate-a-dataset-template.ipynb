{
 "cells": [
  {
   "cell_type": "markdown",
   "metadata": {},
   "source": [
    "# # Project: Investigate Car and fuels consumption\n",
    "\n",
    "## Table of Contents\n",
    "<ul>\n",
    "<li><a href=\"#intro\">Introduction</a></li>\n",
    "<li><a href=\"#wrangling\">Data Wrangling</a></li>\n",
    "<li><a href=\"#eda\">Exploratory Data Analysis</a></li>\n",
    "<li><a href=\"#conclusions\">Conclusions</a></li>\n",
    "</ul>"
   ]
  },
  {
   "cell_type": "markdown",
   "metadata": {},
   "source": [
    "<a id='intro'></a>\n",
    "## Introduction\n",
    "\n",
    "> **Tip**: In this section of the report, provide a brief introduction to the dataset you've selected for analysis. At the end of this section, describe the questions that you plan on exploring over the course of the report. Try to build your report around the analysis of at least one dependent variable and three independent variables.\n",
    ">\n",
    "> If you haven't yet selected and downloaded your data, make sure you do that first before coming back here. If you're not sure what questions to ask right now, then make sure you familiarize yourself with the variables and the dataset context for ideas of what to explore."
   ]
  },
  {
   "cell_type": "code",
   "execution_count": 12,
   "metadata": {},
   "outputs": [],
   "source": [
    "# Use this cell to set up import statements for all of the packages that you\n",
    "#   plan to use.\n",
    "import numpy as np\n",
    "import pandas as pd\n",
    "import matplotlib.pyplot as plt\n",
    "import seaborn as sns\n",
    "%matplotlib inline\n"
   ]
  },
  {
   "cell_type": "markdown",
   "metadata": {},
   "source": [
    "<a id='wrangling'></a>\n",
    "## Data Wrangling\n",
    "\n",
    "> **Tip**: In this section of the report, you will load in the data, check for cleanliness, and then trim and clean your dataset for analysis. Make sure that you document your steps carefully and justify your cleaning decisions.\n",
    "\n",
    "### General Properties"
   ]
  },
  {
   "cell_type": "code",
   "execution_count": 11,
   "metadata": {},
   "outputs": [
    {
     "data": {
      "text/plain": [
       "(4727, 67)"
      ]
     },
     "execution_count": 11,
     "metadata": {},
     "output_type": "execute_result"
    }
   ],
   "source": [
    "df = pd.read_csv('08tstcar.csv')\n",
    "df.shape\n",
    "df2 = pd.read_csv('18tstcar-2018.csv')\n",
    "df2.shape"
   ]
  },
  {
   "cell_type": "markdown",
   "metadata": {},
   "source": [
    "### Data Cleaning (Replace this with more specific notes!)"
   ]
  },
  {
   "cell_type": "code",
   "execution_count": 14,
   "metadata": {},
   "outputs": [
    {
     "name": "stdout",
     "output_type": "stream",
     "text": [
      "<class 'pandas.core.frame.DataFrame'>\n",
      "RangeIndex: 3015 entries, 0 to 3014\n",
      "Data columns (total 51 columns):\n",
      "MDLYR_DT              3015 non-null int64\n",
      "VI_MFR_CD             3015 non-null int64\n",
      "VI_MFR_NM             3015 non-null object\n",
      "GBE_INDX_NUM          3015 non-null int64\n",
      "OV_ID                 3015 non-null object\n",
      "VC_CNFG_NUM           3015 non-null int64\n",
      "CL_NM                 3015 non-null object\n",
      "CLS_TYP_CD            3015 non-null object\n",
      "GBE_CID_MSR           3015 non-null int64\n",
      "GBE_PLC_IND_CD        3015 non-null object\n",
      "VC_RTD_HP_MSR         3015 non-null int64\n",
      "ECS_CD                0 non-null float64\n",
      "ECS_CD_0              0 non-null float64\n",
      "ECS_CD_1              0 non-null float64\n",
      "ECS_CD_2              0 non-null float64\n",
      "ECS_CD_3              0 non-null float64\n",
      "EVCS_CD               2774 non-null float64\n",
      "TRNS                  3015 non-null object\n",
      "DRV_SYS_CD            3015 non-null object\n",
      "TOD_CD                3015 non-null int64\n",
      "VC_DSN_ETW_MSR        3015 non-null int64\n",
      "VC_CMPRSN_RAT_MSR     3015 non-null float64\n",
      "VC_AXLE_RAT_MSR       3015 non-null float64\n",
      "VC_NV_RAT_MSR         3015 non-null float64\n",
      "TPF_ACHP_IND_CD       3015 non-null object\n",
      "TPF_DYNO_HP_MSR       294 non-null float64\n",
      "SIL_CD                3015 non-null int64\n",
      "TST_PRC_CD            3015 non-null int64\n",
      "TST_PRPS_CD           3015 non-null int64\n",
      "TST_NUM_ID            3015 non-null int64\n",
      "Test Originator       3015 non-null object\n",
      "VEH_FL_TYP_CD         3015 non-null int64\n",
      "CH_CD                 3015 non-null object\n",
      "AVRG_CD               207 non-null object\n",
      "GT_WT_MSR             207 non-null float64\n",
      "CMYT_HC_FE_MSR        2690 non-null float64\n",
      "CMYT_CO_FE_MSR        2692 non-null float64\n",
      "CMYT_CO2_FE_MSR       2692 non-null float64\n",
      "CMYT_NOX_MSR          1355 non-null float64\n",
      "CMYT_PM_MSR           17 non-null float64\n",
      "GT_RND_ADJ_QTY        3015 non-null float64\n",
      "TPF_DYN_TRK_A_MSR     3011 non-null float64\n",
      "TPF_DYN_TRK_B_MSR     3011 non-null float64\n",
      "TPF_DYN_TRK_C_MSR     3011 non-null float64\n",
      "TPF_EDYN_TRK_A_MSR    3011 non-null float64\n",
      "TPF_EDYN_TRK_B_MSR    3011 non-null float64\n",
      "TPF_EDYN_TRK_C_MSR    3011 non-null float64\n",
      "ENG_CD                3015 non-null object\n",
      "EF_ID                 3015 non-null object\n",
      "VC_CYL_CNT            3015 non-null int64\n",
      "TPF_MFR_CSTDN_MSR     1737 non-null float64\n",
      "dtypes: float64(24), int64(14), object(13)\n",
      "memory usage: 1.2+ MB\n"
     ]
    }
   ],
   "source": [
    "# After discussing the structure of the data and any problems that need to be\n",
    "#   cleaned, perform those cleaning steps in the second part of this section.\n",
    "df.info()"
   ]
  },
  {
   "cell_type": "code",
   "execution_count": 15,
   "metadata": {},
   "outputs": [
    {
     "name": "stdout",
     "output_type": "stream",
     "text": [
      "<class 'pandas.core.frame.DataFrame'>\n",
      "RangeIndex: 4727 entries, 0 to 4726\n",
      "Data columns (total 67 columns):\n",
      "Model Year                        4727 non-null int64\n",
      "Vehicle Manufacturer Name         4727 non-null object\n",
      "Veh Mfr Code                      4727 non-null object\n",
      "Represented Test Veh Make         4727 non-null object\n",
      "Represented Test Veh Model        4727 non-null object\n",
      "Test Vehicle ID                   4727 non-null object\n",
      "Test Veh Configuration #          4727 non-null int64\n",
      "Test Veh Displacement (L)         4727 non-null float64\n",
      "Actual Tested Testgroup           4727 non-null object\n",
      "Vehicle Type                      4727 non-null object\n",
      "Rated Horsepower                  4727 non-null int64\n",
      "# of Cylinders and Rotors         4626 non-null float64\n",
      "Engine Code                       4727 non-null object\n",
      "Tested Transmission Type Code     4727 non-null object\n",
      "Tested Transmission Type          4727 non-null object\n",
      "# of Gears                        4727 non-null int64\n",
      "Transmission Lockup?              4727 non-null object\n",
      "Drive System Code                 4727 non-null object\n",
      "Drive System Description          4727 non-null object\n",
      "Transmission Overdrive Code       4727 non-null int64\n",
      "Transmission Overdrive Desc       4727 non-null object\n",
      "Equivalent Test Weight (lbs.)     4727 non-null int64\n",
      "Axle Ratio                        4727 non-null float64\n",
      "N/V Ratio                         4727 non-null float64\n",
      "Shift Indicator Light Use Cd      4727 non-null int64\n",
      "Shift Indicator Light Use Desc    4727 non-null object\n",
      "Test Number                       4727 non-null object\n",
      "Test Originator                   4727 non-null object\n",
      "Analytically Derived FE?          4727 non-null object\n",
      "ADFE Test Number                  540 non-null object\n",
      "ADFE Total Road Load HP           540 non-null float64\n",
      "ADFE Equiv. Test Weight (lbs.)    540 non-null float64\n",
      "ADFE N/V Ratio                    540 non-null float64\n",
      "Test Procedure Cd                 4727 non-null int64\n",
      "Test Procedure Description        4727 non-null object\n",
      "Test Fuel Type Cd                 4727 non-null int64\n",
      "Test Fuel Type Description        4727 non-null object\n",
      "Test Category                     4727 non-null object\n",
      "THC (g/mi)                        4252 non-null float64\n",
      "CO (g/mi)                         4254 non-null float64\n",
      "CO2 (g/mi)                        4568 non-null float64\n",
      "NOx (g/mi)                        4203 non-null float64\n",
      "PM (g/mi)                         904 non-null float64\n",
      "CH4 (g/mi)                        4045 non-null float64\n",
      "N2O (g/mi)                        2206 non-null float64\n",
      "RND_ADJ_FE                        4716 non-null float64\n",
      "FE_UNIT                           4727 non-null object\n",
      "FE Bag 1                          2245 non-null float64\n",
      "FE Bag 2                          2245 non-null float64\n",
      "FE Bag 3                          1949 non-null float64\n",
      "FE Bag 4                          120 non-null float64\n",
      "DT-Inertia Work Ratio Rating      4092 non-null float64\n",
      "DT-Absolute Speed Change Ratg     4092 non-null float64\n",
      "DT-Energy Economy Rating          4092 non-null float64\n",
      "Target Coef A (lbf)               4727 non-null float64\n",
      "Target Coef B (lbf/mph)           4727 non-null float64\n",
      "Target Coef C (lbf/mph**2)        4727 non-null float64\n",
      "Set Coef A (lbf)                  4727 non-null float64\n",
      "Set Coef B (lbf/mph)              4727 non-null float64\n",
      "Set Coef C (lbf/mph**2)           4727 non-null float64\n",
      "Aftertreatment Device Cd          4613 non-null object\n",
      "Aftertreatment Device Desc        4613 non-null object\n",
      "Police - Emergency Vehicle?       4727 non-null object\n",
      "Averaging Group ID                223 non-null object\n",
      "Averaging Weighting Factor        223 non-null float64\n",
      "Averaging Method Cd               4727 non-null object\n",
      "Averging Method Desc              4727 non-null object\n",
      "dtypes: float64(29), int64(9), object(29)\n",
      "memory usage: 2.4+ MB\n"
     ]
    }
   ],
   "source": [
    "df2.info()"
   ]
  },
  {
   "cell_type": "markdown",
   "metadata": {},
   "source": [
    "<a id='eda'></a>\n",
    "## Exploratory Data Analysis\n",
    "\n",
    "> **Tip**: Now that you've trimmed and cleaned your data, you're ready to move on to exploration. Compute statistics and create visualizations with the goal of addressing the research questions that you posed in the Introduction section. It is recommended that you be systematic with your approach. Look at one variable at a time, and then follow it up by looking at relationships between variables.\n",
    "\n",
    "### Research Question 1 (Replace this header name!)"
   ]
  },
  {
   "cell_type": "code",
   "execution_count": null,
   "metadata": {
    "collapsed": true
   },
   "outputs": [],
   "source": [
    "# Use this, and more code cells, to explore your data. Don't forget to add\n",
    "#   Markdown cells to document your observations and findings.\n"
   ]
  },
  {
   "cell_type": "markdown",
   "metadata": {},
   "source": [
    "### Research Question 2  (Replace this header name!)"
   ]
  },
  {
   "cell_type": "code",
   "execution_count": null,
   "metadata": {
    "collapsed": true
   },
   "outputs": [],
   "source": [
    "# Continue to explore the data to address your additional research\n",
    "#   questions. Add more headers as needed if you have more questions to\n",
    "#   investigate.\n"
   ]
  },
  {
   "cell_type": "markdown",
   "metadata": {},
   "source": [
    "<a id='conclusions'></a>\n",
    "## Conclusions\n",
    "\n",
    "> **Tip**: Finally, summarize your findings and the results that have been performed. Make sure that you are clear with regards to the limitations of your exploration. If you haven't done any statistical tests, do not imply any statistical conclusions. And make sure you avoid implying causation from correlation!\n",
    "\n",
    "> **Tip**: Once you are satisfied with your work, you should save a copy of the report in HTML or PDF form via the **File** > **Download as** submenu. Before exporting your report, check over it to make sure that the flow of the report is complete. You should probably remove all of the \"Tip\" quotes like this one so that the presentation is as tidy as possible. Congratulations!"
   ]
  },
  {
   "cell_type": "code",
   "execution_count": null,
   "metadata": {
    "collapsed": true
   },
   "outputs": [],
   "source": []
  }
 ],
 "metadata": {
  "kernelspec": {
   "display_name": "Python 3",
   "language": "python",
   "name": "python3"
  },
  "language_info": {
   "codemirror_mode": {
    "name": "ipython",
    "version": 3
   },
   "file_extension": ".py",
   "mimetype": "text/x-python",
   "name": "python",
   "nbconvert_exporter": "python",
   "pygments_lexer": "ipython3",
   "version": "3.7.4"
  }
 },
 "nbformat": 4,
 "nbformat_minor": 2
}
