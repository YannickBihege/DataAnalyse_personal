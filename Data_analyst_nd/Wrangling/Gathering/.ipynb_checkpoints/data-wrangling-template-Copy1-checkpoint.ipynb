{
 "cells": [
  {
   "cell_type": "markdown",
   "metadata": {},
   "source": [
    "# Data Wrangling Template"
   ]
  },
  {
   "cell_type": "markdown",
   "metadata": {},
   "source": [
    "## Gather"
   ]
  },
  {
   "cell_type": "code",
   "execution_count": 1,
   "metadata": {},
   "outputs": [],
   "source": [
    "import zipfile\n",
    "import pandas as pd\n",
    "import numpy as np\n",
    "import requests\n",
    "import matplotlib.pyplot as plt\n",
    "%matplotlib inline\n",
    "from bs4 import BeautifulSoup\n",
    "import os"
   ]
  },
  {
   "cell_type": "markdown",
   "metadata": {},
   "source": [
    "## Assess"
   ]
  },
  {
   "cell_type": "markdown",
   "metadata": {},
   "source": [
    "## Clean\n",
    "#### Define\n",
    "\n",
    "#### Code"
   ]
  },
  {
   "cell_type": "markdown",
   "metadata": {},
   "source": [
    "**Beautiful soup**"
   ]
  },
  {
   "cell_type": "code",
   "execution_count": null,
   "metadata": {},
   "outputs": [],
   "source": [
    "dict = {}\n",
    "df_list =[]\n",
    "directory='rt_html'\n",
    "for file_html in os.listdir(directory):\n",
    "    with open(os.path.join(directory,file_html)) as file:\n",
    "        soup = BeautifulSoup(file, 'lxml')\n",
    "        try:\n",
    "            \n",
    "            title = soup.find('title').contents[0][:-len(' - Rotten Tomatoes')]\n",
    "            audience_score = soup.find('div',class_ ='audience-score meter').find('span').contents[0].replace('%','')\n",
    "        \n",
    "            num_audience_ratings = soup.find('div',class_ ='audience-info hidden-xs superPageFontColor').find('span').contents[0][:-1]\n",
    "        #num_audience_ratings = num_audience_ratings.find('div')[1].contents[2].strip().replace(',','').replace('%','')\n",
    "        except:\n",
    "            continue\n",
    "        \n",
    "        #print(num_audience_ratings)\n",
    "        \n",
    "        df_list.append(\n",
    "        {\n",
    "            'title': title,\n",
    "            'audience_score': int(audience_score),\n",
    "            'number_of_audience_ratings': (num_audience_ratings)\n",
    "        }\n",
    "        )\n"
   ]
  },
  {
   "cell_type": "markdown",
   "metadata": {},
   "source": [
    "Clean¶\n",
    "Define\n",
    "Code"
   ]
  },
  {
   "cell_type": "markdown",
   "metadata": {},
   "source": [
    "#### Test"
   ]
  },
  {
   "cell_type": "code",
   "execution_count": 3,
   "metadata": {},
   "outputs": [
    {
     "data": {
      "text/html": [
       "<div>\n",
       "<style scoped>\n",
       "    .dataframe tbody tr th:only-of-type {\n",
       "        vertical-align: middle;\n",
       "    }\n",
       "\n",
       "    .dataframe tbody tr th {\n",
       "        vertical-align: top;\n",
       "    }\n",
       "\n",
       "    .dataframe thead th {\n",
       "        text-align: right;\n",
       "    }\n",
       "</style>\n",
       "<table border=\"1\" class=\"dataframe\">\n",
       "  <thead>\n",
       "    <tr style=\"text-align: right;\">\n",
       "      <th></th>\n",
       "      <th>title</th>\n",
       "      <th>audience_score</th>\n",
       "      <th>number_of_audience_ratings</th>\n",
       "    </tr>\n",
       "  </thead>\n",
       "  <tbody>\n",
       "    <tr>\n",
       "      <td>0</td>\n",
       "      <td>Casablanca (1942)</td>\n",
       "      <td>95</td>\n",
       "      <td>Average Rating</td>\n",
       "    </tr>\n",
       "    <tr>\n",
       "      <td>1</td>\n",
       "      <td>The Godfather, Part II (1974)</td>\n",
       "      <td>97</td>\n",
       "      <td>Average Rating</td>\n",
       "    </tr>\n",
       "    <tr>\n",
       "      <td>2</td>\n",
       "      <td>Wonder Woman (2017)</td>\n",
       "      <td>90</td>\n",
       "      <td>Average Rating</td>\n",
       "    </tr>\n",
       "    <tr>\n",
       "      <td>3</td>\n",
       "      <td>Tokyo Story (Tôkyô monogatari) (1953)</td>\n",
       "      <td>93</td>\n",
       "      <td>Average Rating</td>\n",
       "    </tr>\n",
       "    <tr>\n",
       "      <td>4</td>\n",
       "      <td>Toy Story 2 (1999)</td>\n",
       "      <td>86</td>\n",
       "      <td>Average Rating</td>\n",
       "    </tr>\n",
       "  </tbody>\n",
       "</table>\n",
       "</div>"
      ],
      "text/plain": [
       "                                   title  audience_score  \\\n",
       "0                      Casablanca (1942)              95   \n",
       "1          The Godfather, Part II (1974)              97   \n",
       "2                    Wonder Woman (2017)              90   \n",
       "3  Tokyo Story (Tôkyô monogatari) (1953)              93   \n",
       "4                     Toy Story 2 (1999)              86   \n",
       "\n",
       "  number_of_audience_ratings  \n",
       "0             Average Rating  \n",
       "1             Average Rating  \n",
       "2             Average Rating  \n",
       "3             Average Rating  \n",
       "4             Average Rating  "
      ]
     },
     "execution_count": 3,
     "metadata": {},
     "output_type": "execute_result"
    }
   ],
   "source": [
    "df = pd.DataFrame(df_list, columns=['title','audience_score','number_of_audience_ratings'])     \n",
    "df.head()"
   ]
  },
  {
   "cell_type": "code",
   "execution_count": null,
   "metadata": {},
   "outputs": [],
   "source": []
  }
 ],
 "metadata": {
  "kernelspec": {
   "display_name": "Python 3",
   "language": "python",
   "name": "python3"
  },
  "language_info": {
   "codemirror_mode": {
    "name": "ipython",
    "version": 3
   },
   "file_extension": ".py",
   "mimetype": "text/x-python",
   "name": "python",
   "nbconvert_exporter": "python",
   "pygments_lexer": "ipython3",
   "version": "3.7.4"
  }
 },
 "nbformat": 4,
 "nbformat_minor": 2
}
