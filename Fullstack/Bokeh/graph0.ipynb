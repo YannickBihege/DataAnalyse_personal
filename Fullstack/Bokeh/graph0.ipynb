{
 "cells": [
  {
   "cell_type": "code",
   "execution_count": 1,
   "metadata": {},
   "outputs": [],
   "source": [
    "import pandas as pd\n",
    "import numpy as np\n",
    "from bokeh.plotting import figure\n",
    "from bokeh.io import output_file , show"
   ]
  },
  {
   "cell_type": "code",
   "execution_count": 2,
   "metadata": {},
   "outputs": [],
   "source": [
    "# p=figure(plot_width=500,plot_height=400, tools='pan',logo=None)\n",
    "\n",
    "# p.title.text=\"Cool Data\"\n",
    "# p.title.text_color=\"Gray\"\n",
    "# p.title.text_font=\"times\"\n",
    "# p.title.text_font_style=\"bold\"\n",
    "# p.xaxis.minor_tick_line_color=None\n",
    "# p.yaxis.minor_tick_line_color=None\n",
    "# p.xaxis.axis_label=\"Date\"\n",
    "# p.yaxis.axis_label=\"Intensity\"    \n",
    " \n",
    "# p.line([1,2,3],[4,5,6])\n",
    "# output_file(\"graph.html\")\n",
    "# show(p)"
   ]
  },
  {
   "cell_type": "code",
   "execution_count": 3,
   "metadata": {},
   "outputs": [],
   "source": [
    "x = range(20)\n",
    "y= np.sqrt(x)"
   ]
  },
  {
   "cell_type": "code",
   "execution_count": 4,
   "metadata": {},
   "outputs": [],
   "source": [
    "output_file= \"square.html\"\n",
    "#figure\n",
    "f = figure()\n",
    "#create line plot\n",
    "f.line(x,y)\n",
    "#show plot\n",
    "show(f)"
   ]
  },
  {
   "cell_type": "code",
   "execution_count": 5,
   "metadata": {},
   "outputs": [],
   "source": [
    "output_file= \"triangle.html\"\n",
    "#figure\n",
    "f1 = figure()\n",
    "f1.triangle(x,y)\n",
    "show(f1)"
   ]
  },
  {
   "cell_type": "code",
   "execution_count": 6,
   "metadata": {},
   "outputs": [],
   "source": [
    "df = pd.read_csv('bachelors.csv')\n",
    "x=df['Year']\n",
    "y=df['Engineering']\n",
    "output_file= \"engineering.html\"\n",
    "#figure\n",
    "f3 = figure()\n",
    "f3.line(x,y)\n",
    "#show plot\n",
    "show(f3)"
   ]
  },
  {
   "cell_type": "code",
   "execution_count": 9,
   "metadata": {},
   "outputs": [],
   "source": [
    "#pip3 install xlrd"
   ]
  },
  {
   "cell_type": "code",
   "execution_count": 10,
   "metadata": {},
   "outputs": [],
   "source": [
    "df = pd.read_excel('verlegenhuken.xlsx')"
   ]
  },
  {
   "cell_type": "code",
   "execution_count": 16,
   "metadata": {},
   "outputs": [
    {
     "data": {
      "text/html": [
       "<div>\n",
       "<style scoped>\n",
       "    .dataframe tbody tr th:only-of-type {\n",
       "        vertical-align: middle;\n",
       "    }\n",
       "\n",
       "    .dataframe tbody tr th {\n",
       "        vertical-align: top;\n",
       "    }\n",
       "\n",
       "    .dataframe thead th {\n",
       "        text-align: right;\n",
       "    }\n",
       "</style>\n",
       "<table border=\"1\" class=\"dataframe\">\n",
       "  <thead>\n",
       "    <tr style=\"text-align: right;\">\n",
       "      <th></th>\n",
       "      <th>Year</th>\n",
       "      <th>Month</th>\n",
       "      <th>Day</th>\n",
       "      <th>Hour</th>\n",
       "      <th>Temperature</th>\n",
       "      <th>Pressure</th>\n",
       "    </tr>\n",
       "  </thead>\n",
       "  <tbody>\n",
       "    <tr>\n",
       "      <td>8430</td>\n",
       "      <td>2011</td>\n",
       "      <td>10</td>\n",
       "      <td>5</td>\n",
       "      <td>15</td>\n",
       "      <td>-0.38</td>\n",
       "      <td>100.49</td>\n",
       "    </tr>\n",
       "    <tr>\n",
       "      <td>24332</td>\n",
       "      <td>2013</td>\n",
       "      <td>11</td>\n",
       "      <td>12</td>\n",
       "      <td>15</td>\n",
       "      <td>-1.07</td>\n",
       "      <td>98.92</td>\n",
       "    </tr>\n",
       "  </tbody>\n",
       "</table>\n",
       "</div>"
      ],
      "text/plain": [
       "       Year  Month  Day  Hour  Temperature  Pressure\n",
       "8430   2011     10    5    15        -0.38    100.49\n",
       "24332  2013     11   12    15        -1.07     98.92"
      ]
     },
     "execution_count": 16,
     "metadata": {},
     "output_type": "execute_result"
    }
   ],
   "source": [
    "df['Temperature'] = df['Temperature'] /10\n",
    "df['Pressure'] = df['Pressure'] /10\n",
    "df.sample(2)"
   ]
  },
  {
   "cell_type": "code",
   "execution_count": 32,
   "metadata": {},
   "outputs": [],
   "source": [
    "\n",
    "from bokeh.plotting import figure\n",
    "from bokeh.io import output_file , show\n",
    "p3=figure(plot_width=500,plot_height=400, tools='pan')\n",
    "\n",
    "p3.title.text=\"Temperature and pressure\"\n",
    "p3.title.text_color=\"Gray\"\n",
    "p3.title.text_font=\"times\"\n",
    "p3.title.text_font_style=\"bold\"\n",
    "p3.xaxis.minor_tick_line_color=None\n",
    "p3.yaxis.minor_tick_line_color=None\n",
    "p3.xaxis.axis_label=\"Temperature\"\n",
    "p3.yaxis.axis_label=\"Pressure\"    \n",
    " \n",
    "p3.circle(df[\"Temperature\"],df[\"Pressure\"] , size = 0.5)\n",
    "output_file(\"weather.html\")\n",
    "show(p3)"
   ]
  },
  {
   "cell_type": "code",
   "execution_count": 25,
   "metadata": {},
   "outputs": [],
   "source": [
    "df2= pd.read_csv(\"https://query1.finance.yahoo.com/v7/finance/download/AAPL?period1=1556465160&period2=1588087560&interval=1d&events=history\" ,parse_dates=[\"Date\"])"
   ]
  },
  {
   "cell_type": "code",
   "execution_count": 26,
   "metadata": {},
   "outputs": [
    {
     "data": {
      "text/html": [
       "<div>\n",
       "<style scoped>\n",
       "    .dataframe tbody tr th:only-of-type {\n",
       "        vertical-align: middle;\n",
       "    }\n",
       "\n",
       "    .dataframe tbody tr th {\n",
       "        vertical-align: top;\n",
       "    }\n",
       "\n",
       "    .dataframe thead th {\n",
       "        text-align: right;\n",
       "    }\n",
       "</style>\n",
       "<table border=\"1\" class=\"dataframe\">\n",
       "  <thead>\n",
       "    <tr style=\"text-align: right;\">\n",
       "      <th></th>\n",
       "      <th>Date</th>\n",
       "      <th>Open</th>\n",
       "      <th>High</th>\n",
       "      <th>Low</th>\n",
       "      <th>Close</th>\n",
       "      <th>Adj Close</th>\n",
       "      <th>Volume</th>\n",
       "    </tr>\n",
       "  </thead>\n",
       "  <tbody>\n",
       "    <tr>\n",
       "      <td>0</td>\n",
       "      <td>2019-04-29</td>\n",
       "      <td>204.399994</td>\n",
       "      <td>205.970001</td>\n",
       "      <td>203.860001</td>\n",
       "      <td>204.610001</td>\n",
       "      <td>201.966461</td>\n",
       "      <td>22204700</td>\n",
       "    </tr>\n",
       "    <tr>\n",
       "      <td>1</td>\n",
       "      <td>2019-04-30</td>\n",
       "      <td>203.059998</td>\n",
       "      <td>203.399994</td>\n",
       "      <td>199.110001</td>\n",
       "      <td>200.669998</td>\n",
       "      <td>198.077362</td>\n",
       "      <td>46534900</td>\n",
       "    </tr>\n",
       "    <tr>\n",
       "      <td>2</td>\n",
       "      <td>2019-05-01</td>\n",
       "      <td>209.880005</td>\n",
       "      <td>215.309998</td>\n",
       "      <td>209.229996</td>\n",
       "      <td>210.520004</td>\n",
       "      <td>207.800110</td>\n",
       "      <td>64827300</td>\n",
       "    </tr>\n",
       "    <tr>\n",
       "      <td>3</td>\n",
       "      <td>2019-05-02</td>\n",
       "      <td>209.839996</td>\n",
       "      <td>212.649994</td>\n",
       "      <td>208.130005</td>\n",
       "      <td>209.149994</td>\n",
       "      <td>206.447800</td>\n",
       "      <td>31996300</td>\n",
       "    </tr>\n",
       "    <tr>\n",
       "      <td>4</td>\n",
       "      <td>2019-05-03</td>\n",
       "      <td>210.889999</td>\n",
       "      <td>211.839996</td>\n",
       "      <td>210.229996</td>\n",
       "      <td>211.750000</td>\n",
       "      <td>209.014221</td>\n",
       "      <td>20892400</td>\n",
       "    </tr>\n",
       "    <tr>\n",
       "      <td>...</td>\n",
       "      <td>...</td>\n",
       "      <td>...</td>\n",
       "      <td>...</td>\n",
       "      <td>...</td>\n",
       "      <td>...</td>\n",
       "      <td>...</td>\n",
       "      <td>...</td>\n",
       "    </tr>\n",
       "    <tr>\n",
       "      <td>248</td>\n",
       "      <td>2020-04-22</td>\n",
       "      <td>273.609985</td>\n",
       "      <td>277.899994</td>\n",
       "      <td>272.200012</td>\n",
       "      <td>276.100006</td>\n",
       "      <td>276.100006</td>\n",
       "      <td>29264300</td>\n",
       "    </tr>\n",
       "    <tr>\n",
       "      <td>249</td>\n",
       "      <td>2020-04-23</td>\n",
       "      <td>275.869995</td>\n",
       "      <td>281.750000</td>\n",
       "      <td>274.869995</td>\n",
       "      <td>275.029999</td>\n",
       "      <td>275.029999</td>\n",
       "      <td>31203600</td>\n",
       "    </tr>\n",
       "    <tr>\n",
       "      <td>250</td>\n",
       "      <td>2020-04-24</td>\n",
       "      <td>277.200012</td>\n",
       "      <td>283.010010</td>\n",
       "      <td>277.000000</td>\n",
       "      <td>282.970001</td>\n",
       "      <td>282.970001</td>\n",
       "      <td>31627200</td>\n",
       "    </tr>\n",
       "    <tr>\n",
       "      <td>251</td>\n",
       "      <td>2020-04-27</td>\n",
       "      <td>281.799988</td>\n",
       "      <td>284.540009</td>\n",
       "      <td>279.950012</td>\n",
       "      <td>283.170013</td>\n",
       "      <td>283.170013</td>\n",
       "      <td>29236400</td>\n",
       "    </tr>\n",
       "    <tr>\n",
       "      <td>252</td>\n",
       "      <td>2020-04-28</td>\n",
       "      <td>285.079987</td>\n",
       "      <td>285.829987</td>\n",
       "      <td>280.562012</td>\n",
       "      <td>282.070007</td>\n",
       "      <td>282.070007</td>\n",
       "      <td>11582820</td>\n",
       "    </tr>\n",
       "  </tbody>\n",
       "</table>\n",
       "<p>253 rows × 7 columns</p>\n",
       "</div>"
      ],
      "text/plain": [
       "          Date        Open        High         Low       Close   Adj Close  \\\n",
       "0   2019-04-29  204.399994  205.970001  203.860001  204.610001  201.966461   \n",
       "1   2019-04-30  203.059998  203.399994  199.110001  200.669998  198.077362   \n",
       "2   2019-05-01  209.880005  215.309998  209.229996  210.520004  207.800110   \n",
       "3   2019-05-02  209.839996  212.649994  208.130005  209.149994  206.447800   \n",
       "4   2019-05-03  210.889999  211.839996  210.229996  211.750000  209.014221   \n",
       "..         ...         ...         ...         ...         ...         ...   \n",
       "248 2020-04-22  273.609985  277.899994  272.200012  276.100006  276.100006   \n",
       "249 2020-04-23  275.869995  281.750000  274.869995  275.029999  275.029999   \n",
       "250 2020-04-24  277.200012  283.010010  277.000000  282.970001  282.970001   \n",
       "251 2020-04-27  281.799988  284.540009  279.950012  283.170013  283.170013   \n",
       "252 2020-04-28  285.079987  285.829987  280.562012  282.070007  282.070007   \n",
       "\n",
       "       Volume  \n",
       "0    22204700  \n",
       "1    46534900  \n",
       "2    64827300  \n",
       "3    31996300  \n",
       "4    20892400  \n",
       "..        ...  \n",
       "248  29264300  \n",
       "249  31203600  \n",
       "250  31627200  \n",
       "251  29236400  \n",
       "252  11582820  \n",
       "\n",
       "[253 rows x 7 columns]"
      ]
     },
     "execution_count": 26,
     "metadata": {},
     "output_type": "execute_result"
    }
   ],
   "source": [
    "df2"
   ]
  },
  {
   "cell_type": "code",
   "execution_count": 27,
   "metadata": {},
   "outputs": [],
   "source": [
    "p = figure(width = 500, height = 250, x_axis_type =\"datetime\") #responsive = True"
   ]
  },
  {
   "cell_type": "code",
   "execution_count": 28,
   "metadata": {},
   "outputs": [],
   "source": [
    "p.line(df2['Date'], df2['Close'] , color = \"Orange\", alpha = 0.5)\n",
    "output_file =(\"Timeseries.html\")\n",
    "show(p)"
   ]
  },
  {
   "cell_type": "code",
   "execution_count": null,
   "metadata": {},
   "outputs": [],
   "source": []
  }
 ],
 "metadata": {
  "kernelspec": {
   "display_name": "Python 3",
   "language": "python",
   "name": "python3"
  },
  "language_info": {
   "codemirror_mode": {
    "name": "ipython",
    "version": 3
   },
   "file_extension": ".py",
   "mimetype": "text/x-python",
   "name": "python",
   "nbconvert_exporter": "python",
   "pygments_lexer": "ipython3",
   "version": "3.7.4"
  }
 },
 "nbformat": 4,
 "nbformat_minor": 2
}
