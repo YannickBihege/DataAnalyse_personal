{
 "cells": [
  {
   "cell_type": "markdown",
   "metadata": {},
   "source": [
    "# Data Wrangling with DataFrames Coding Quiz\n",
    "\n",
    "Use this Jupyter notebook to find the answers to the quiz in the previous section. There is an answer key in the next part of the lesson."
   ]
  },
  {
   "cell_type": "code",
   "execution_count": 1,
   "metadata": {},
   "outputs": [],
   "source": [
    "import findspark\n",
    "findspark.init('/home/yannick/dev/spark-2.4.4-bin-hadoop2.7')"
   ]
  },
  {
   "cell_type": "code",
   "execution_count": 38,
   "metadata": {},
   "outputs": [],
   "source": [
    "from pyspark.sql import SparkSession\n",
    "from pyspark.sql.functions import udf\n",
    "from pyspark.sql.types import StringType\n",
    "from pyspark.sql.types import IntegerType\n",
    "from pyspark.sql.functions import desc\n",
    "from pyspark.sql.functions import asc\n",
    "from pyspark.sql.functions import sum as Fsum\n",
    "\n",
    "import datetime\n",
    "\n",
    "import numpy as np\n",
    "import pandas as pd\n",
    "%matplotlib inline\n",
    "import matplotlib.pyplot as plt"
   ]
  },
  {
   "cell_type": "code",
   "execution_count": 39,
   "metadata": {},
   "outputs": [],
   "source": [
    "from pyspark.sql import SparkSession\n",
    "\n",
    "# TODOS: \n",
    "# 1) import any other libraries you might need\n",
    "# 2) instantiate a Spark session \n",
    "# 3) read in the data set located at the path \"data/sparkify_log_small.json\"\n",
    "# 4) write code to answer the quiz questions \n",
    "spark = SparkSession \\\n",
    "    .builder \\\n",
    "    .appName(\"Dataframe QUIZ\") \\\n",
    "    .getOrCreate()"
   ]
  },
  {
   "cell_type": "code",
   "execution_count": 40,
   "metadata": {},
   "outputs": [],
   "source": [
    "path = \"data/sparkify_log.json\"\n",
    "user_log = spark.read.json(path)"
   ]
  },
  {
   "cell_type": "markdown",
   "metadata": {},
   "source": [
    "# Question 1\n",
    "\n",
    "Which page did user id \"\" (empty string) NOT visit?"
   ]
  },
  {
   "cell_type": "code",
   "execution_count": 41,
   "metadata": {},
   "outputs": [
    {
     "name": "stdout",
     "output_type": "stream",
     "text": [
      "root\n",
      " |-- artist: string (nullable = true)\n",
      " |-- auth: string (nullable = true)\n",
      " |-- firstName: string (nullable = true)\n",
      " |-- gender: string (nullable = true)\n",
      " |-- itemInSession: long (nullable = true)\n",
      " |-- lastName: string (nullable = true)\n",
      " |-- length: double (nullable = true)\n",
      " |-- level: string (nullable = true)\n",
      " |-- location: string (nullable = true)\n",
      " |-- method: string (nullable = true)\n",
      " |-- page: string (nullable = true)\n",
      " |-- registration: long (nullable = true)\n",
      " |-- sessionId: long (nullable = true)\n",
      " |-- song: string (nullable = true)\n",
      " |-- status: long (nullable = true)\n",
      " |-- ts: long (nullable = true)\n",
      " |-- userAgent: string (nullable = true)\n",
      " |-- userId: string (nullable = true)\n",
      "\n",
      "+-----+\n",
      "| page|\n",
      "+-----+\n",
      "| Home|\n",
      "|About|\n",
      "|Login|\n",
      "| Help|\n",
      "+-----+\n",
      "\n"
     ]
    }
   ],
   "source": [
    "# TODO: write your code to answer question 1\n",
    "#user_log.describe('artist')\n",
    "user_log.printSchema()\n",
    "#user_log.select('artist').show()\n",
    "user_log.select('artist').filter(user_log.userId== '').count()\n",
    "user_log.select('page').filter(user_log.userId== '').dropDuplicates().show()"
   ]
  },
  {
   "cell_type": "markdown",
   "metadata": {},
   "source": [
    "# Question 2 - Reflect\n",
    "\n",
    "What type of user does the empty string user id most likely refer to?\n"
   ]
  },
  {
   "cell_type": "code",
   "execution_count": 42,
   "metadata": {},
   "outputs": [
    {
     "name": "stdout",
     "output_type": "stream",
     "text": [
      "+-----+------+------+\n",
      "| page|artist|userID|\n",
      "+-----+------+------+\n",
      "|Login|  null|      |\n",
      "| Home|  null|      |\n",
      "| Home|  null|      |\n",
      "| Home|  null|      |\n",
      "|Login|  null|      |\n",
      "|Login|  null|      |\n",
      "| Home|  null|      |\n",
      "| Home|  null|      |\n",
      "|Login|  null|      |\n",
      "| Home|  null|      |\n",
      "|Login|  null|      |\n",
      "| Home|  null|      |\n",
      "| Help|  null|      |\n",
      "| Home|  null|      |\n",
      "|Login|  null|      |\n",
      "| Home|  null|      |\n",
      "|Login|  null|      |\n",
      "| Home|  null|      |\n",
      "|Login|  null|      |\n",
      "| Home|  null|      |\n",
      "+-----+------+------+\n",
      "only showing top 20 rows\n",
      "\n"
     ]
    }
   ],
   "source": [
    "# TODO: use this space to explore the behavior of the user with an empty string\n",
    "user_log.select('page','artist','userID').filter(user_log.userId =='').show()"
   ]
  },
  {
   "cell_type": "markdown",
   "metadata": {},
   "source": [
    "# Question 3\n",
    "\n",
    "How many female users do we have in the data set?"
   ]
  },
  {
   "cell_type": "code",
   "execution_count": 64,
   "metadata": {},
   "outputs": [
    {
     "data": {
      "text/plain": [
       "462"
      ]
     },
     "execution_count": 64,
     "metadata": {},
     "output_type": "execute_result"
    }
   ],
   "source": [
    "user_log.select('userId','gender').dropDuplicates().filter(user_log.gender=='F').count()"
   ]
  },
  {
   "cell_type": "markdown",
   "metadata": {},
   "source": [
    "# Question 4\n",
    "\n",
    "How many songs were played from the most played artist?"
   ]
  },
  {
   "cell_type": "code",
   "execution_count": 60,
   "metadata": {},
   "outputs": [
    {
     "name": "stdout",
     "output_type": "stream",
     "text": [
      "+--------------------+-----------+\n",
      "|              artist|Artistcount|\n",
      "+--------------------+-----------+\n",
      "|            Coldplay|         83|\n",
      "|       Kings Of Leon|         69|\n",
      "|Florence + The Ma...|         52|\n",
      "|            BjÃÂ¶rk|         46|\n",
      "|       Dwight Yoakam|         45|\n",
      "|       Justin Bieber|         43|\n",
      "|      The Black Keys|         40|\n",
      "|         OneRepublic|         37|\n",
      "|        Jack Johnson|         36|\n",
      "|                Muse|         36|\n",
      "|           Radiohead|         31|\n",
      "|        Taylor Swift|         29|\n",
      "|          Lily Allen|         28|\n",
      "|Barry Tuckwell/Ac...|         28|\n",
      "|               Train|         28|\n",
      "|          Nickelback|         27|\n",
      "|           Daft Punk|         27|\n",
      "|           Metallica|         27|\n",
      "|          Kanye West|         26|\n",
      "|     Alliance Ethnik|         24|\n",
      "+--------------------+-----------+\n",
      "only showing top 20 rows\n",
      "\n"
     ]
    }
   ],
   "source": [
    "# TODO: write your code to answer question 4\n",
    "user_log.select('artist','song').groupBy('artist').agg({'artist':'count'}).withColumnRenamed('count(Artist)', 'Artistcount') \\\n",
    "    .sort(desc('Artistcount')).show()"
   ]
  },
  {
   "cell_type": "markdown",
   "metadata": {},
   "source": [
    "# Question 5 (challenge)\n",
    "\n",
    "How many songs do users listen to on average between visiting our home page? Please round your answer to the closest integer.\n",
    "\n"
   ]
  },
  {
   "cell_type": "code",
   "execution_count": 65,
   "metadata": {},
   "outputs": [],
   "source": [
    "from pyspark.sql import SparkSession\n",
    "from pyspark.sql.functions import isnan, count, when, col, desc, udf, col, sort_array, asc, avg\n",
    "from pyspark.sql.functions import sum as Fsum\n",
    "from pyspark.sql.window import Window\n",
    "from pyspark.sql.types import IntegerType"
   ]
  },
  {
   "cell_type": "code",
   "execution_count": 93,
   "metadata": {},
   "outputs": [],
   "source": [
    "flag_downgrade_event = udf(lambda x : 1 if x == 'Submit Downgrade' else 0, IntegerType()   )"
   ]
  },
  {
   "cell_type": "code",
   "execution_count": 94,
   "metadata": {},
   "outputs": [],
   "source": [
    "user_log_valid = user_log.withColumn('downgraded',flag_downgrade_event('page'))"
   ]
  },
  {
   "cell_type": "code",
   "execution_count": 95,
   "metadata": {},
   "outputs": [
    {
     "data": {
      "text/plain": [
       "[Row(artist='Showaddywaddy', auth='Logged In', firstName='Kenneth', gender='M', itemInSession=112, lastName='Matthews', length=232.93342, level='paid', location='Charlotte-Concord-Gastonia, NC-SC', method='PUT', page='NextSong', registration=1509380319284, sessionId=5132, song='Christmas Tears Will Fall', status=200, ts=1513720872284, userAgent='\"Mozilla/5.0 (Windows NT 6.1) AppleWebKit/537.36 (KHTML, like Gecko) Chrome/36.0.1985.125 Safari/537.36\"', userId='1046', downgraded=0),\n",
       " Row(artist='Lily Allen', auth='Logged In', firstName='Elizabeth', gender='F', itemInSession=7, lastName='Chase', length=195.23873, level='free', location='Shreveport-Bossier City, LA', method='PUT', page='NextSong', registration=1512718541284, sessionId=5027, song='Cheryl Tweedy', status=200, ts=1513720878284, userAgent='\"Mozilla/5.0 (Windows NT 6.1) AppleWebKit/537.36 (KHTML, like Gecko) Chrome/36.0.1985.143 Safari/537.36\"', userId='1000', downgraded=0)]"
      ]
     },
     "execution_count": 95,
     "metadata": {},
     "output_type": "execute_result"
    }
   ],
   "source": [
    "user_log_valid.take(2)"
   ]
  },
  {
   "cell_type": "code",
   "execution_count": 96,
   "metadata": {},
   "outputs": [],
   "source": [
    "windowVal = Window.partitionBy('userId').orderBy(desc('ts')).rangeBetween(Window.unboundedPreceding,0)"
   ]
  },
  {
   "cell_type": "code",
   "execution_count": 97,
   "metadata": {},
   "outputs": [],
   "source": [
    "user_log_valid = user_log_valid.withColumn('Phase' , Fsum('downgraded').over(windowVal))"
   ]
  },
  {
   "cell_type": "code",
   "execution_count": 102,
   "metadata": {},
   "outputs": [
    {
     "data": {
      "text/plain": [
       "[Row(userId='1138', firstName='Kelly', page='Home', phase=1, ts=1513729066284),\n",
       " Row(userId='1138', firstName='Kelly', page='NextSong', phase=1, ts=1513729066284),\n",
       " Row(userId='1138', firstName='Kelly', page='NextSong', phase=1, ts=1513729313284),\n",
       " Row(userId='1138', firstName='Kelly', page='NextSong', phase=1, ts=1513729552284),\n",
       " Row(userId='1138', firstName='Kelly', page='NextSong', phase=1, ts=1513729783284),\n",
       " Row(userId='1138', firstName='Kelly', page='NextSong', phase=1, ts=1513730001284),\n",
       " Row(userId='1138', firstName='Kelly', page='NextSong', phase=1, ts=1513730263284),\n",
       " Row(userId='1138', firstName='Kelly', page='NextSong', phase=1, ts=1513730518284),\n",
       " Row(userId='1138', firstName='Kelly', page='NextSong', phase=1, ts=1513730768284),\n",
       " Row(userId='1138', firstName='Kelly', page='NextSong', phase=1, ts=1513731182284),\n",
       " Row(userId='1138', firstName='Kelly', page='NextSong', phase=1, ts=1513731435284),\n",
       " Row(userId='1138', firstName='Kelly', page='NextSong', phase=1, ts=1513731695284),\n",
       " Row(userId='1138', firstName='Kelly', page='NextSong', phase=1, ts=1513731857284),\n",
       " Row(userId='1138', firstName='Kelly', page='NextSong', phase=1, ts=1513732160284),\n",
       " Row(userId='1138', firstName='Kelly', page='NextSong', phase=1, ts=1513732302284),\n",
       " Row(userId='1138', firstName='Kelly', page='NextSong', phase=1, ts=1513732540284),\n",
       " Row(userId='1138', firstName='Kelly', page='NextSong', phase=1, ts=1513732770284),\n",
       " Row(userId='1138', firstName='Kelly', page='NextSong', phase=1, ts=1513732994284),\n",
       " Row(userId='1138', firstName='Kelly', page='NextSong', phase=1, ts=1513733223284),\n",
       " Row(userId='1138', firstName='Kelly', page='NextSong', phase=1, ts=1513733456284),\n",
       " Row(userId='1138', firstName='Kelly', page='NextSong', phase=1, ts=1513733738284),\n",
       " Row(userId='1138', firstName='Kelly', page='NextSong', phase=1, ts=1513733941284),\n",
       " Row(userId='1138', firstName='Kelly', page='NextSong', phase=1, ts=1513734289284),\n",
       " Row(userId='1138', firstName='Kelly', page='NextSong', phase=1, ts=1513734598284),\n",
       " Row(userId='1138', firstName='Kelly', page='NextSong', phase=1, ts=1513734863284),\n",
       " Row(userId='1138', firstName='Kelly', page='NextSong', phase=1, ts=1513735174284),\n",
       " Row(userId='1138', firstName='Kelly', page='NextSong', phase=1, ts=1513735385284),\n",
       " Row(userId='1138', firstName='Kelly', page='NextSong', phase=1, ts=1513736040284),\n",
       " Row(userId='1138', firstName='Kelly', page='NextSong', phase=1, ts=1513736237284),\n",
       " Row(userId='1138', firstName='Kelly', page='NextSong', phase=1, ts=1513736446284),\n",
       " Row(userId='1138', firstName='Kelly', page='NextSong', phase=1, ts=1513736709284),\n",
       " Row(userId='1138', firstName='Kelly', page='NextSong', phase=1, ts=1513736915284),\n",
       " Row(userId='1138', firstName='Kelly', page='NextSong', phase=1, ts=1513737160284),\n",
       " Row(userId='1138', firstName='Kelly', page='NextSong', phase=1, ts=1513737460284),\n",
       " Row(userId='1138', firstName='Kelly', page='NextSong', phase=1, ts=1513737728284),\n",
       " Row(userId='1138', firstName='Kelly', page='NextSong', phase=1, ts=1513737936284),\n",
       " Row(userId='1138', firstName='Kelly', page='NextSong', phase=1, ts=1513738144284),\n",
       " Row(userId='1138', firstName='Kelly', page='Help', phase=1, ts=1513738197284),\n",
       " Row(userId='1138', firstName='Kelly', page='NextSong', phase=1, ts=1513738432284),\n",
       " Row(userId='1138', firstName='Kelly', page='NextSong', phase=1, ts=1513763195284),\n",
       " Row(userId='1138', firstName='Kelly', page='NextSong', phase=1, ts=1513763453284),\n",
       " Row(userId='1138', firstName='Kelly', page='NextSong', phase=1, ts=1513763622284),\n",
       " Row(userId='1138', firstName='Kelly', page='NextSong', phase=1, ts=1513763890284),\n",
       " Row(userId='1138', firstName='Kelly', page='NextSong', phase=1, ts=1513764238284),\n",
       " Row(userId='1138', firstName='Kelly', page='NextSong', phase=1, ts=1513764462284),\n",
       " Row(userId='1138', firstName='Kelly', page='NextSong', phase=1, ts=1513764782284),\n",
       " Row(userId='1138', firstName='Kelly', page='NextSong', phase=1, ts=1513765075284),\n",
       " Row(userId='1138', firstName='Kelly', page='Home', phase=1, ts=1513765075284),\n",
       " Row(userId='1138', firstName='Kelly', page='NextSong', phase=1, ts=1513765448284),\n",
       " Row(userId='1138', firstName='Kelly', page='NextSong', phase=1, ts=1513765655284),\n",
       " Row(userId='1138', firstName='Kelly', page='NextSong', phase=1, ts=1513765818284),\n",
       " Row(userId='1138', firstName='Kelly', page='NextSong', phase=1, ts=1513766091284),\n",
       " Row(userId='1138', firstName='Kelly', page='NextSong', phase=1, ts=1513766189284),\n",
       " Row(userId='1138', firstName='Kelly', page='NextSong', phase=1, ts=1513766385284),\n",
       " Row(userId='1138', firstName='Kelly', page='NextSong', phase=1, ts=1513766599284),\n",
       " Row(userId='1138', firstName='Kelly', page='NextSong', phase=1, ts=1513766838284),\n",
       " Row(userId='1138', firstName='Kelly', page='NextSong', phase=1, ts=1513767203284),\n",
       " Row(userId='1138', firstName='Kelly', page='NextSong', phase=1, ts=1513767413284),\n",
       " Row(userId='1138', firstName='Kelly', page='NextSong', phase=1, ts=1513767643284),\n",
       " Row(userId='1138', firstName='Kelly', page='NextSong', phase=1, ts=1513768012284),\n",
       " Row(userId='1138', firstName='Kelly', page='NextSong', phase=1, ts=1513768242284),\n",
       " Row(userId='1138', firstName='Kelly', page='NextSong', phase=1, ts=1513768452284),\n",
       " Row(userId='1138', firstName='Kelly', page='Downgrade', phase=1, ts=1513768453284),\n",
       " Row(userId='1138', firstName='Kelly', page='Submit Downgrade', phase=1, ts=1513768454284),\n",
       " Row(userId='1138', firstName='Kelly', page='Home', phase=0, ts=1513768456284),\n",
       " Row(userId='1138', firstName='Kelly', page='NextSong', phase=0, ts=1513814880284),\n",
       " Row(userId='1138', firstName='Kelly', page='Home', phase=0, ts=1513821430284),\n",
       " Row(userId='1138', firstName='Kelly', page='NextSong', phase=0, ts=1513833144284)]"
      ]
     },
     "execution_count": 102,
     "metadata": {},
     "output_type": "execute_result"
    }
   ],
   "source": [
    "user_log_valid.select('userId','firstName','page','phase','ts').where(user_log_valid.userId == 1138).sort('ts').collect()"
   ]
  },
  {
   "cell_type": "code",
   "execution_count": null,
   "metadata": {},
   "outputs": [],
   "source": []
  }
 ],
 "metadata": {
  "kernelspec": {
   "display_name": "Python 3",
   "language": "python",
   "name": "python3"
  },
  "language_info": {
   "codemirror_mode": {
    "name": "ipython",
    "version": 3
   },
   "file_extension": ".py",
   "mimetype": "text/x-python",
   "name": "python",
   "nbconvert_exporter": "python",
   "pygments_lexer": "ipython3",
   "version": "3.7.4"
  }
 },
 "nbformat": 4,
 "nbformat_minor": 2
}
